{
 "cells": [
  {
   "cell_type": "code",
   "execution_count": 9,
   "metadata": {},
   "outputs": [
    {
     "name": "stdout",
     "output_type": "stream",
     "text": [
      "Température initiale (en °C) : 1\n",
      "Quelle masse d'eau liquide introduite ? (en g)  2\n",
      "Quelle masse d'eau solide introduite ? (en g)  3\n",
      "Température finale (en °C) : 4\n",
      "__________________________________\n",
      " \n",
      "L'énergie reçue par l'eau pour passer de l'état solide à l'état liquide est de -1185.33 J\n"
     ]
    }
   ],
   "source": [
    "import numpy as np\n",
    "import os\n",
    "from matplotlib import pyplot as plt\n",
    "from scipy.optimize import curve_fit\n",
    "from scipy import odr\n",
    "plt.rcParams[\"figure.figsize\"]=10,5\n",
    "             \n",
    "C_calo = 370  # J/K Capacité thermique du calorimètre \n",
    "\n",
    "cp_eau = 4.185 # J/K/g Capacité thermique massique de l'eau liquide\n",
    "\n",
    "T_init = np.float(input(\"Température initiale (en °C) : \"))\n",
    "m_eau_l = np.float(input(\"Quelle masse d'eau liquide introduite ? (en g)  \"))\n",
    "m_eau_s = np.float(input(\"Quelle masse d'eau solide introduite ? (en g)  \"))\n",
    "T_finale = np.float(input(\"Température finale (en °C) : \"))\n",
    "\n",
    "Q_recue = m_eau_l * cp_eau * (T_init - T_finale)  +  C_calo * (T_init - T_finale)  -  m_eau_s * cp_eau * (T_finale - 0)\n",
    "\n",
    "print('__________________________________')\n",
    "print(' ')\n",
    "print(\"L'énergie reçue par l'eau pour passer de l'état solide à l'état liquide est de \"+str(Q_recue)+\" J\")"
   ]
  },
  {
   "cell_type": "code",
   "execution_count": null,
   "metadata": {},
   "outputs": [],
   "source": []
  }
 ],
 "metadata": {
  "kernelspec": {
   "display_name": "Python 3",
   "language": "python",
   "name": "python3"
  },
  "language_info": {
   "codemirror_mode": {
    "name": "ipython",
    "version": 3
   },
   "file_extension": ".py",
   "mimetype": "text/x-python",
   "name": "python",
   "nbconvert_exporter": "python",
   "pygments_lexer": "ipython3",
   "version": "3.7.4"
  }
 },
 "nbformat": 4,
 "nbformat_minor": 2
}
